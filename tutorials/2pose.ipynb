{
 "cells": [
  {
   "cell_type": "markdown",
   "metadata": {},
   "source": [
    "# 制作你自己的 **AI** 动作识别系统"
   ]
  },
  {
   "cell_type": "markdown",
   "metadata": {},
   "source": [
    "设备：香橙派 Zero 3 （同时执行太多任务可能会导致设备卡顿）\n",
    "\n",
    ">本文档所有模块可以折叠，VS Code左下角点开**OUTLINE**查看目录可快速跳转"
   ]
  },
  {
   "cell_type": "markdown",
   "metadata": {},
   "source": [
    "## 配置开发环境"
   ]
  },
  {
   "cell_type": "code",
   "execution_count": 1,
   "metadata": {},
   "outputs": [],
   "source": [
    "# 导入所有库\n",
    "import os\n",
    "import cv2\n",
    "import signal\n",
    "import subprocess\n"
   ]
  },
  {
   "cell_type": "code",
   "execution_count": 2,
   "metadata": {},
   "outputs": [
    {
     "name": "stdout",
     "output_type": "stream",
     "text": [
      "Current directory: c:\\Users\\PROMCRdog\\Documents\\Coding\\Pi_Pose_Prediction\\tutorials\n",
      "Changed directory: c:\\Users\\PROMCRdog\\Documents\\Coding\\Pi_Pose_Prediction\\inference_prediction\n"
     ]
    }
   ],
   "source": [
    "# Get the current working directory\n",
    "current_dir = os.getcwd()\n",
    "print(f\"Current directory: {current_dir}\")\n",
    "# Change the directory 切换执行路径\n",
    "new_dir = \"../inference_prediction\"\n",
    "os.chdir(new_dir)\n",
    "# Verify the new directory 确认执行路径\n",
    "changed_dir = os.getcwd()\n",
    "print(f\"Changed directory: {changed_dir}\")"
   ]
  },
  {
   "cell_type": "code",
   "execution_count": null,
   "metadata": {},
   "outputs": [],
   "source": [
    "!sh setup.sh"
   ]
  },
  {
   "cell_type": "markdown",
   "metadata": {},
   "source": [
    "## 初步测试"
   ]
  },
  {
   "cell_type": "markdown",
   "metadata": {},
   "source": [
    "### 找到摄像头编号index"
   ]
  },
  {
   "cell_type": "code",
   "execution_count": 3,
   "metadata": {},
   "outputs": [
    {
     "name": "stdout",
     "output_type": "stream",
     "text": [
      "camera found at index 0\n",
      "camera found at index 1\n",
      "camera found at index 2\n"
     ]
    },
    {
     "data": {
      "text/plain": [
       "<function destroyWindow>"
      ]
     },
     "execution_count": 3,
     "metadata": {},
     "output_type": "execute_result"
    }
   ],
   "source": [
    "for camera_id in range(0, 20):\n",
    "    cap = cv2.VideoCapture(camera_id)\n",
    "    if cap is None or not cap.isOpened():\n",
    "        # print(f\"No camera found at index {camera_id}\")\n",
    "        continue\n",
    "    else:\n",
    "        ret, frame = cap.read()\n",
    "        if ret:\n",
    "            print(f\"camera found at index {camera_id}\")\n",
    "        cap.release()\n",
    "\n",
    "cv2.destroyWindow"
   ]
  },
  {
   "cell_type": "markdown",
   "metadata": {},
   "source": [
    "### 测试"
   ]
  },
  {
   "cell_type": "code",
   "execution_count": 4,
   "metadata": {},
   "outputs": [],
   "source": [
    "# Hardcoded variables 硬编变量\n",
    "ESTIMATION_MODEL = 'movenet_lightning'  # 估计模型\n",
    "TRACKER_TYPE = 'bounding_box'  # 跟踪器类型 ('keypoint' or 'bounding_box')\n",
    "CLASSIFICATION_MODEL = 'classifier.tflite'  # Set to None if not using a classifier 如果不使用分类器，设置为None\n",
    "LABEL_FILE = 'labels.txt'  # 标签文件\n",
    "CAMERA_ID = 0  # 相机ID\n",
    "WIDTH = 640  # 宽度\n",
    "HEIGHT = 480  # 高度"
   ]
  },
  {
   "cell_type": "code",
   "execution_count": 5,
   "metadata": {},
   "outputs": [
    {
     "name": "stdout",
     "output_type": "stream",
     "text": [
      "Running command: python pose_estimation.py --model movenet_lightning --tracker bounding_box --classifier classifier.tflite --label_file labels.txt --cameraId 0 \n"
     ]
    }
   ],
   "source": [
    "# 执行文件\n",
    "# Construct the command string\n",
    "command = (\n",
    "    f\"python pose_estimation.py \"\n",
    "    f\"--model {ESTIMATION_MODEL} \"\n",
    "    f\"--tracker {TRACKER_TYPE} \"\n",
    "    f\"--classifier {CLASSIFICATION_MODEL} \"\n",
    "    f\"--label_file {LABEL_FILE} \"\n",
    "    f\"--cameraId {CAMERA_ID} \"\n",
    "    # f\"--frameWidth {WIDTH} \"\n",
    "    # f\"--frameHeight {HEIGHT}\"\n",
    ")\n",
    "\n",
    "\n",
    "print(\"Running command:\", command)\n",
    "\n",
    "\n",
    "try:\n",
    "    # Run the command as a subprocess\n",
    "    process = subprocess.Popen(command, shell=True)\n",
    "\n",
    "    # Wait for the process to complete\n",
    "    process.wait()\n",
    "except KeyboardInterrupt:\n",
    "    # Handle keyboard interrupt (Ctrl+C)\n",
    "    print(\"\\nProcess interrupted! Stopping...\")\n",
    "    process.send_signal(signal.SIGINT)\n",
    "    process.terminate()\n",
    "    process.wait()\n",
    "    print(\"Process stopped.\")"
   ]
  },
  {
   "cell_type": "code",
   "execution_count": 1,
   "metadata": {},
   "outputs": [
    {
     "ename": "NameError",
     "evalue": "name 'os' is not defined",
     "output_type": "error",
     "traceback": [
      "\u001b[1;31m---------------------------------------------------------------------------\u001b[0m",
      "\u001b[1;31mNameError\u001b[0m                                 Traceback (most recent call last)",
      "\u001b[1;32m~\\AppData\\Local\\Temp\\ipykernel_6492\\2874148762.py\u001b[0m in \u001b[0;36m<module>\u001b[1;34m\u001b[0m\n\u001b[0;32m      1\u001b[0m \u001b[1;31m# Change back to initiall working directory 切换为ipynb原本所在路径\u001b[0m\u001b[1;33m\u001b[0m\u001b[1;33m\u001b[0m\u001b[1;33m\u001b[0m\u001b[0m\n\u001b[1;32m----> 2\u001b[1;33m \u001b[0mos\u001b[0m\u001b[1;33m.\u001b[0m\u001b[0mchdir\u001b[0m\u001b[1;33m(\u001b[0m\u001b[0mcurrent_dir\u001b[0m\u001b[1;33m)\u001b[0m\u001b[1;33m\u001b[0m\u001b[1;33m\u001b[0m\u001b[0m\n\u001b[0m",
      "\u001b[1;31mNameError\u001b[0m: name 'os' is not defined"
     ]
    }
   ],
   "source": [
    "# Change back to initiall working directory 切换为ipynb原本所在路径\n",
    "os.chdir(current_dir)"
   ]
  }
 ],
 "metadata": {
  "kernelspec": {
   "display_name": "innox",
   "language": "python",
   "name": "python3"
  },
  "language_info": {
   "codemirror_mode": {
    "name": "ipython",
    "version": 3
   },
   "file_extension": ".py",
   "mimetype": "text/x-python",
   "name": "python",
   "nbconvert_exporter": "python",
   "pygments_lexer": "ipython3",
   "version": "3.7.12"
  }
 },
 "nbformat": 4,
 "nbformat_minor": 2
}
