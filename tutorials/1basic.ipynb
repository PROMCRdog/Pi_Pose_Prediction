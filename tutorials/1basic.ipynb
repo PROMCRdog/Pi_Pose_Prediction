{
 "cells": [
  {
   "cell_type": "markdown",
   "metadata": {},
   "source": [
    "设备：香橙派 Zero 3 （同时执行太多任务可能会导致设备卡顿）\n",
    "\n",
    ">本文档所有模块可以折叠，VS Code左下角点开**OUTLINE**查看目录可快速跳转\n",
    "\n",
    ">本文档尽量运用中英双语。因美国为计算机发源地，大量信息、教材依旧以英文内容为首。<br> 关于计算机的英文资源更丰富，且质量更高。请尽量不要忽略英文词汇"
   ]
  },
  {
   "cell_type": "markdown",
   "metadata": {},
   "source": [
    "# GNU/Linux 的基本操作\n"
   ]
  },
  {
   "cell_type": "markdown",
   "metadata": {},
   "source": [
    ">**GNU 是 \"GNU's Not Unix!\" 的递归缩写**\n",
    "1. **GNU**：是一个递归缩写。它是由 Richard Stallman 在1983年发起的自由软件操作系统项目。GNU 项目的目标是创建一个完全自由的类 Unix 操作系统。\n",
    "2. **Linux**：这是操作系统的内核 (Kernel)，由 Linus Torvalds 在1991年开发。内核是操作系统的核心部分，负责管理系统资源。\n",
    "\n",
    ">**In Linux and UNIX, everything is a file (在Linux和UNIX中，一切皆文件)** 可以在后续运用linux时细品这句话\n",
    "1. **普通文件**：如文本文件、图片、程序等。\n",
    "2. **目录(Directory)/文件夹(Folder)**：在Linux中被视为特殊类型的文件。\n",
    "3. **硬件设备**：如硬盘、打印机等，在/dev目录下都有对应的文件。\n",
    "4. **进程**：在/proc目录下，每个运行的进程都有一个对应的文件。\n",
    "5. **网络套接字**：网络连接也被视为文件。\n",
    "   \n",
    "\n",
    "\n",
    "\n",
    "本教程将介绍Linux终端的基本操作。完成本教程后，你将能够在文件系统中导航，管理文件和目录，并使用一些常见命令。"
   ]
  },
  {
   "cell_type": "markdown",
   "metadata": {},
   "source": [
    "### 打开和使用终端"
   ]
  },
  {
   "cell_type": "markdown",
   "metadata": {},
   "source": [
    "`ctrl + alt + t` 打开终端\n",
    "\n",
    "`ctrl + alt + F1-F7` 切换虚拟终端 tty1-7, 通常tty7号是图形界面\n",
    "\n",
    "`ctrl + c` 结束指令，终止运行"
   ]
  },
  {
   "cell_type": "markdown",
   "metadata": {},
   "source": [
    "### 基本命令"
   ]
  },
  {
   "cell_type": "markdown",
   "metadata": {},
   "source": [
    "#### **`ls` (list) 列出目录内容**\n",
    "`ls` 查看此目录下的所有文件与文件夹\n",
    "尝试 \n",
    "\n",
    "`ls -a` \n",
    "\n",
    "`ls -l`\n",
    "\n",
    "`ls -lh` （-h = --human-readable，人类可读-如4096会显示为4.0K）"
   ]
  },
  {
   "cell_type": "markdown",
   "metadata": {},
   "source": [
    "#### **`pwd` 显示当前目录**\n",
    "`pwd` *print working directory* 输出所在目录"
   ]
  },
  {
   "cell_type": "markdown",
   "metadata": {},
   "source": [
    "#### **`cd` (change directory) 切换目录**\n",
    "`cd <目录路径>` 进入指定目录\n",
    "\n",
    "`cd ..` 返回上级目录\n",
    "\n",
    "`cd ~` 或 `cd` 返回家 (home) 目录"
   ]
  },
  {
   "cell_type": "markdown",
   "metadata": {},
   "source": [
    "#### **`mkdir` (make directory) 创建目录/文件夹**\n",
    "`mkdir <目录名>` 创建新文件夹"
   ]
  },
  {
   "cell_type": "markdown",
   "metadata": {},
   "source": [
    "#### **`rm` (remove) 删除文件或目录**\n",
    "`rm <文件名>` 删除文件\n",
    "\n",
    "`rm -r <目录名>` 删除目录及其内容（谨慎使用）"
   ]
  },
  {
   "cell_type": "markdown",
   "metadata": {},
   "source": [
    "#### **`cp` (copy) 复制文件或目录**\n",
    "`cp <源文件> <目标文件>` 复制文件\n",
    "\n",
    "`cp -r <源目录> <目标目录>` 复制目录"
   ]
  },
  {
   "cell_type": "markdown",
   "metadata": {},
   "source": [
    "#### **`mv` (move) 移动或重命名**\n",
    "`mv <源文件> <目标文件>` 移动或重命名文件\n",
    "\n",
    "`mv <源目录> <目标目录>` 移动或重命名目录"
   ]
  },
  {
   "cell_type": "markdown",
   "metadata": {},
   "source": [
    "#### **`cat` 查看文件内容**\n",
    "`cat <文件名>` 显示文件内容"
   ]
  },
  {
   "cell_type": "markdown",
   "metadata": {},
   "source": [
    "#### **`nano` 编辑文件内容**\n",
    "`nano <文件名>` 用nano编辑器打开文件\n",
    "\n",
    "大部分系统自带nano编辑器，具体操作方法会在屏幕下方提示"
   ]
  },
  {
   "cell_type": "markdown",
   "metadata": {},
   "source": [
    "#### **`man` (manual) 查看命令手册**\n",
    "`man <命令名>` 查看命令的详细说明\n",
    "\n",
    "也可以用 `<命令名> --help` 查看简要说明"
   ]
  },
  {
   "cell_type": "markdown",
   "metadata": {},
   "source": [
    "#### **其他实用命令**\n",
    "\n",
    "`code .` (装好vscode的前提下) 从此目录打开vscode"
   ]
  },
  {
   "cell_type": "markdown",
   "metadata": {},
   "source": [
    "### 实践练习\n",
    "\n",
    "1. `pwd` 查看当前位置\n",
    "2. `ls -l` 查看当前目录内容\n",
    "3. `mkdir practice` 创建practice目录\n",
    "4. `cd practice` 进入practice目录\n",
    "5. `touch test.txt` 创建空文件test.txt\n",
    "6. `ls` 查看文档存在\n",
    "7. `nano test.txt` 用nano编辑器打开test.txt\n",
    "8. 在nano中，输入一些文本，然后按Ctrl+X，Y，再按Enter保存并退出\n",
    "9. `cat test.txt` 查看test.txt内容\n",
    "10. `mv test.txt example.txt` 重命名文件\n",
    "11. `cp example.txt backup.txt` 复制文件\n",
    "12. `ls` 确认操作结果\n",
    "13. `cd ..` 返回上级目录\n",
    "14. `rm -r practice` 回归式删除practice目录及其内容\n",
    "    \n",
    "以上所有命令均可用man查看使用方法"
   ]
  },
  {
   "cell_type": "markdown",
   "metadata": {},
   "source": [
    "### 小贴士\n",
    "\n",
    "- 使用 Tab 键自动补全命令和文件名\n",
    "- 使用上下箭头键浏览命令历史\n",
    "- `history` 命令可以查看完整的命令历史\n",
    "- `clear` 或 `ctrl + l` 清屏\n",
    "\n",
    "多练习是掌握这些命令的关键"
   ]
  },
  {
   "cell_type": "markdown",
   "metadata": {},
   "source": [
    "# Python基础入门"
   ]
  },
  {
   "cell_type": "markdown",
   "metadata": {},
   "source": [
    "本教程将介绍Python编程的基础知识。完成本教程后，你将能够编写Python程序了，经过熟悉将能读懂大部分Python代码。"
   ]
  },
  {
   "cell_type": "markdown",
   "metadata": {},
   "source": [
    "### Python简介\n",
    "\n",
    "Python是一种高级、解释型编程语言(high-level, interpreted programming language)，以其可读性和易用性而闻名。它被广泛应用于数据分析、人工智能、网络开发等领域。让我们从一些基本概念开始。"
   ]
  },
  {
   "cell_type": "markdown",
   "metadata": {},
   "source": [
    "### 变量 (Variables) 和数据类型 (Data Types)\n",
    "\n",
    "在Python中，我们可以使用变量来存储数据。"
   ]
  },
  {
   "cell_type": "code",
   "execution_count": 5,
   "metadata": {},
   "outputs": [
    {
     "name": "stdout",
     "output_type": "stream",
     "text": [
      "年龄: 25\n",
      "身高: 170.5\n",
      "姓名: 小明\n",
      "是否是学生: True\n"
     ]
    }
   ],
   "source": [
    "# 整数（Integer）\n",
    "age = 25\n",
    "print(\"年龄:\", age)\n",
    "\n",
    "# 浮点数（Float）\n",
    "height = 170.5\n",
    "print(\"身高:\", height)\n",
    "\n",
    "# 字符串（String）\n",
    "name = \"小明\"\n",
    "print(\"姓名:\", name)\n",
    "\n",
    "# 布尔值（Boolean）\n",
    "is_student = True\n",
    "print(\"是否是学生:\", is_student)"
   ]
  },
  {
   "cell_type": "markdown",
   "metadata": {},
   "source": [
    "### 基本运算\n",
    "\n",
    "Python可以执行基本的算术运算。"
   ]
  },
  {
   "cell_type": "code",
   "execution_count": 6,
   "metadata": {},
   "outputs": [
    {
     "name": "stdout",
     "output_type": "stream",
     "text": [
      "5 + 3 = 8\n",
      "10 - 2 = 8\n",
      "4 * 3 = 12\n",
      "16 / 2 = 8.0\n",
      "10 除以 3 的余数是: 1\n"
     ]
    }
   ],
   "source": [
    "# 加法\n",
    "print(\"5 + 3 =\", 5 + 3)\n",
    "\n",
    "# 减法\n",
    "print(\"10 - 2 =\", 10 - 2)\n",
    "\n",
    "# 乘法\n",
    "print(\"4 * 3 =\", 4 * 3)\n",
    "\n",
    "# 除法\n",
    "print(\"16 / 2 =\", 16 / 2)\n",
    "\n",
    "# 取余（求余数）\n",
    "print(\"10 除以 3 的余数是:\", 10 % 3)"
   ]
  },
  {
   "cell_type": "markdown",
   "metadata": {},
   "source": [
    "### 列表（List）\n",
    "\n",
    "列表用于在单个变量中存储多个项目(elements)。"
   ]
  },
  {
   "cell_type": "code",
   "execution_count": 20,
   "metadata": {},
   "outputs": [
    {
     "name": "stdout",
     "output_type": "stream",
     "text": [
      "我的列表: [1, 2, 3, 4, 5]\n",
      "第一个元素: 1\n",
      "最后一个元素: 5\n",
      "前三个元素: [1, 2, 3]\n",
      "第二个到第四个元素: [2, 3, 4]\n",
      "从第三个元素到结束: [3, 4, 5]\n",
      "最后两个元素: [4, 5]\n",
      "每隔一个元素: [1, 3, 5]\n",
      "反转列表: [5, 4, 3, 2, 1]\n",
      "添加元素后: [1, 2, 3, 4, 5, 6]\n",
      "删除元素后: [1, 2, 4, 5, 6]\n"
     ]
    }
   ],
   "source": [
    "my_list = [1, 2, 3, 4, 5]\n",
    "print(\"我的列表:\", my_list)\n",
    "\n",
    "# 访问元素\n",
    "print(\"第一个元素:\", my_list[0])  # 注意：Python的索引(index)从0开始\n",
    "print(\"最后一个元素:\", my_list[-1])\n",
    "\n",
    "# 列表切片\n",
    "print(\"前三个元素:\", my_list[:3])  # 从开始到索引(index)3（不包括3）\n",
    "print(\"第二个到第四个元素:\", my_list[1:4])  # 从index1到4（不包括4）\n",
    "print(\"从第三个元素到结束:\", my_list[2:])  # 从index2到结束\n",
    "print(\"最后两个元素:\", my_list[-2:])  # 最后两个元素\n",
    "print(\"每隔一个元素:\", my_list[::2])  # 步长为2\n",
    "print(\"反转列表:\", my_list[::-1])  # 步长为-1，反转列表\n",
    "\n",
    "# 添加元素\n",
    "my_list.append(6)\n",
    "print(\"添加元素后:\", my_list)\n",
    "\n",
    "# 删除元素\n",
    "my_list.remove(3)\n",
    "print(\"删除元素后:\", my_list)"
   ]
  },
  {
   "cell_type": "markdown",
   "metadata": {},
   "source": [
    "### 循环 (Loops)\n",
    "循环用于重复执行一块代码。"
   ]
  },
  {
   "cell_type": "markdown",
   "metadata": {},
   "source": [
    "#### `for` 循环"
   ]
  },
  {
   "cell_type": "code",
   "execution_count": 8,
   "metadata": {},
   "outputs": [
    {
     "name": "stdout",
     "output_type": "stream",
     "text": [
      "使用for循环打印0到4:\n",
      "0\n",
      "1\n",
      "2\n",
      "3\n",
      "4\n"
     ]
    }
   ],
   "source": [
    "print(\"使用for循环打印0到4:\")\n",
    "for i in range(5):\n",
    "    print(i)"
   ]
  },
  {
   "cell_type": "markdown",
   "metadata": {},
   "source": [
    "#### `while` 循环"
   ]
  },
  {
   "cell_type": "code",
   "execution_count": 9,
   "metadata": {},
   "outputs": [
    {
     "name": "stdout",
     "output_type": "stream",
     "text": [
      "使用while循环打印0到4:\n",
      "0\n",
      "1\n",
      "2\n",
      "3\n",
      "4\n"
     ]
    }
   ],
   "source": [
    "print(\"使用while循环打印0到4:\")\n",
    "count = 0\n",
    "while count < 5:\n",
    "    print(count)\n",
    "    count += 1  # 这相当于 count = count + 1"
   ]
  },
  {
   "cell_type": "markdown",
   "metadata": {},
   "source": [
    "### 函数 (Functions)\n",
    "函数是执行特定任务的代码模块。"
   ]
  },
  {
   "cell_type": "code",
   "execution_count": 10,
   "metadata": {},
   "outputs": [
    {
     "name": "stdout",
     "output_type": "stream",
     "text": [
      "你好，小明！\n",
      "你好，小红！\n"
     ]
    }
   ],
   "source": [
    "def greet(name):\n",
    "    return f\"你好，{name}！\"\n",
    "\n",
    "print(greet(\"小明\"))\n",
    "print(greet(\"小红\"))"
   ]
  },
  {
   "cell_type": "markdown",
   "metadata": {},
   "source": [
    "### 导入库（Import Libraries）\n",
    "> 库 (Library)，包 (packages)，模块(modules)\n",
    "\n",
    "在Python中，我们通常使用 import 语句来导入这些资源。例如："
   ]
  },
  {
   "cell_type": "code",
   "execution_count": 21,
   "metadata": {},
   "outputs": [],
   "source": [
    "import math  # 导入标准库 (Importing a standard library)\n",
    "from datetime import datetime  # 从库中导入特定模块 (Importing a specific module from a library)\n",
    "import numpy as np  # 导入第三方库并使用别名 (Importing a third-party library with an alias)"
   ]
  },
  {
   "cell_type": "markdown",
   "metadata": {},
   "source": [
    "Python有丰富的库，例如math，你可以导入并在程序中使用它们。"
   ]
  },
  {
   "cell_type": "code",
   "execution_count": 12,
   "metadata": {},
   "outputs": [
    {
     "name": "stdout",
     "output_type": "stream",
     "text": [
      "16的平方根是: 4.0\n",
      "圆周率π约等于: 3.141592653589793\n"
     ]
    }
   ],
   "source": [
    "import math\n",
    "\n",
    "print(\"16的平方根是:\", math.sqrt(16))\n",
    "print(\"圆周率π约等于:\", math.pi)"
   ]
  },
  {
   "cell_type": "markdown",
   "metadata": {},
   "source": [
    "### 类和面向对象编程 (Classes and Object-Oriented Programming)\n",
    "面向对象编程（OOP）是一种编程范式，它使用\"对象\"来组织代码。在Python中，我们使用类来创建对象。"
   ]
  },
  {
   "cell_type": "markdown",
   "metadata": {},
   "source": [
    "#### 类的基本概念 (Basic Concepts of Classes)\n",
    "类是一种用户自定义的数据类型，它定义了一类对象的属性和方法。"
   ]
  },
  {
   "cell_type": "code",
   "execution_count": 13,
   "metadata": {},
   "outputs": [
    {
     "name": "stdout",
     "output_type": "stream",
     "text": [
      "小黑正在汪汪叫！\n",
      "小黑今年3岁了。\n"
     ]
    }
   ],
   "source": [
    "class Dog:\n",
    "    # 初始化方法（构造函数）\n",
    "    def __init__(self, name, age):\n",
    "        self.name = name  # 属性\n",
    "        self.age = age\n",
    "\n",
    "    # 方法\n",
    "    def bark(self):\n",
    "        return f\"{self.name}正在汪汪叫！\"\n",
    "\n",
    "    def get_info(self):\n",
    "        return f\"{self.name}今年{self.age}岁了。\"\n",
    "\n",
    "# 创建Dog类的实例\n",
    "my_dog = Dog(\"小黑\", 3)\n",
    "\n",
    "# 使用对象的方法\n",
    "print(my_dog.bark())\n",
    "print(my_dog.get_info())"
   ]
  },
  {
   "cell_type": "markdown",
   "metadata": {},
   "source": [
    "#### 继承 (Inheritance)\n",
    "\n",
    "继承允许我们基于一个已存在的类创建新类。"
   ]
  },
  {
   "cell_type": "code",
   "execution_count": 14,
   "metadata": {},
   "outputs": [
    {
     "name": "stdout",
     "output_type": "stream",
     "text": [
      "咪咪喵喵叫！\n",
      "小鸟吱吱叫！\n"
     ]
    }
   ],
   "source": [
    "class Animal:\n",
    "    def __init__(self, name):\n",
    "        self.name = name\n",
    "\n",
    "    def speak(self):\n",
    "        pass\n",
    "\n",
    "class Cat(Animal):\n",
    "    def speak(self):\n",
    "        return f\"{self.name}喵喵叫！\"\n",
    "\n",
    "class Bird(Animal):\n",
    "    def speak(self):\n",
    "        return f\"{self.name}吱吱叫！\"\n",
    "\n",
    "# 创建实例\n",
    "my_cat = Cat(\"咪咪\")\n",
    "my_bird = Bird(\"小鸟\")\n",
    "\n",
    "print(my_cat.speak())\n",
    "print(my_bird.speak())"
   ]
  },
  {
   "cell_type": "markdown",
   "metadata": {},
   "source": [
    "#### 封装 (Encapsulation)\n",
    "\n",
    "封装是将数据和操作数据的方法绑定在一起的一种方式。"
   ]
  },
  {
   "cell_type": "code",
   "execution_count": 15,
   "metadata": {},
   "outputs": [
    {
     "name": "stdout",
     "output_type": "stream",
     "text": [
      "当前余额：1300元\n"
     ]
    }
   ],
   "source": [
    "class BankAccount:\n",
    "    def __init__(self, balance):\n",
    "        self.__balance = balance  # 私有属性\n",
    "\n",
    "    def deposit(self, amount):\n",
    "        if amount > 0:\n",
    "            self.__balance += amount\n",
    "            return True\n",
    "        return False\n",
    "\n",
    "    def withdraw(self, amount):\n",
    "        if 0 < amount <= self.__balance:\n",
    "            self.__balance -= amount\n",
    "            return True\n",
    "        return False\n",
    "\n",
    "    def get_balance(self):\n",
    "        return self.__balance\n",
    "\n",
    "# 使用BankAccount类\n",
    "my_account = BankAccount(1000)\n",
    "my_account.deposit(500)\n",
    "my_account.withdraw(200)\n",
    "print(f\"当前余额：{my_account.get_balance()}元\")"
   ]
  },
  {
   "cell_type": "markdown",
   "metadata": {},
   "source": [
    "#### 多态 (Polymorphism)\n",
    "\n",
    "多态允许使用一个接口来引用不同类型的对象。"
   ]
  },
  {
   "cell_type": "code",
   "execution_count": 16,
   "metadata": {},
   "outputs": [
    {
     "name": "stdout",
     "output_type": "stream",
     "text": [
      "咪咪喵喵叫！\n",
      "小鸟吱吱叫！\n"
     ]
    }
   ],
   "source": [
    "def animal_speak(animal):\n",
    "    print(animal.speak())\n",
    "\n",
    "# 使用之前定义的Cat和Bird类\n",
    "cat = Cat(\"咪咪\")\n",
    "bird = Bird(\"小鸟\")\n",
    "\n",
    "animal_speak(cat)  # 输出：咪咪喵喵叫！\n",
    "animal_speak(bird)  # 输出：小鸟吱吱叫！"
   ]
  },
  {
   "cell_type": "markdown",
   "metadata": {},
   "source": [
    "### 面向对象编程的优点\n",
    "\n",
    "1. **代码重用**：通过继承，我们可以重用已有的代码。\n",
    "2. **封装**：数据可以隐藏在对象内部，提高了安全性。\n",
    "3. **模块化**：对象可以看作是程序的构建块，使大型程序更容易管理。\n",
    "4. **灵活性**：通过多态，我们可以用统一的方式处理不同类型的对象。"
   ]
  },
  {
   "cell_type": "markdown",
   "metadata": {},
   "source": [
    "### 实践练习\n",
    "\n",
    "1. 创建一个包含你最喜欢的水果名称的列表，然后打印出来。(Create a list of your favorite fruits and print it.)\n",
    "2. 编写一个函数，接受一个数字作为参数，返回该数字的平方。(Write a function that takes a number as a parameter and returns its square.)\n",
    "3. 使用for循环打印出1到10的所有偶数。(Use a for loop to print all even numbers from 1 to 10.)\n",
    "4. 创建一个简单的计算器程序，能够进行加、减、乘、除运算。(Create a simple calculator program that can perform addition, subtraction, multiplication, and division.)\n",
    "\n",
    "**类与面向对象** (3选1就可以)\n",
    "1. 创建一个Student类，包含姓名、年龄和成绩属性，以及一个打印学生信息的方法。(Create a Student class with name, age, and grade attributes, and a method to print student information.)\n",
    "2. 基于Student类，创建一个GraduateStudent子类，添加研究方向属性。(Based on the Student class, create a GraduateStudent subclass, adding a research field attribute.)\n",
    "3. 创建一个简单的图书管理系统，包含Book和Library类。(Create a simple library management system with Book and Library classes.)"
   ]
  },
  {
   "cell_type": "markdown",
   "metadata": {},
   "source": [
    "### 小贴士\n",
    "\n",
    "- Python对缩进很敏感，它用来划分代码块。确保你的代码缩进正确。\n",
    "- 使用`#`来添加注释，注释你的代码。\n",
    "- 多练习！编程是一项需要不断实践的技能。"
   ]
  },
  {
   "cell_type": "markdown",
   "metadata": {},
   "source": [
    "祝你编程愉快！随着练习的增加，你会发现Python是一个强大而有趣的编程语言。或许会出现即便掌握了其他语言，能用Python还是用Python的情况。"
   ]
  }
 ],
 "metadata": {
  "kernelspec": {
   "display_name": "innox",
   "language": "python",
   "name": "python3"
  },
  "language_info": {
   "codemirror_mode": {
    "name": "ipython",
    "version": 3
   },
   "file_extension": ".py",
   "mimetype": "text/x-python",
   "name": "python",
   "nbconvert_exporter": "python",
   "pygments_lexer": "ipython3",
   "version": "3.10.0"
  }
 },
 "nbformat": 4,
 "nbformat_minor": 2
}
