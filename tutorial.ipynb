{
 "cells": [
  {
   "cell_type": "markdown",
   "metadata": {},
   "source": [
    "# 制作你自己的 **AI** 动作识别系统"
   ]
  },
  {
   "cell_type": "markdown",
   "metadata": {},
   "source": [
    "设备：香橙派 Zero 3 （同时执行太多任务可能会导致设备卡顿）"
   ]
  },
  {
   "cell_type": "markdown",
   "metadata": {},
   "source": [
    "## GNU/Linux 的基本操作\n",
    "\n",
    ">GNU 是 \"GNU's Not Unix!\" 的递归缩写"
   ]
  },
  {
   "cell_type": "markdown",
   "metadata": {},
   "source": [
    "`ctrl + alt + t` 打开终端\n",
    "\n",
    "`ctrl + alt + F1-F7` 切换虚拟终端 tty1-7, 通常tty7号是图形界面\n",
    "\n",
    "`ls` 查看此目录下的所有文件与文件夹，尝试 `ls -a`, `ls -l`, `ls -lh` （-h = --human-readable，人类可读）\n",
    "\n",
    "`man` *manual* 或指令后面加 `--help` 查看指令说明书 \n",
    "\n",
    "`pwd` *print working directory* 输出所在目录\n",
    "\n",
    "`code` (装好vscode的前提下) 从此目录打开vscode\n",
    "\n",
    "\n",
    "\n",
    "\n"
   ]
  },
  {
   "cell_type": "code",
   "execution_count": null,
   "metadata": {
    "vscode": {
     "languageId": "plaintext"
    }
   },
   "outputs": [],
   "source": []
  },
  {
   "cell_type": "markdown",
   "metadata": {},
   "source": [
    "## 配置开发环境"
   ]
  },
  {
   "cell_type": "code",
   "execution_count": null,
   "metadata": {
    "vscode": {
     "languageId": "plaintext"
    }
   },
   "outputs": [],
   "source": []
  }
 ],
 "metadata": {
  "language_info": {
   "name": "python"
  }
 },
 "nbformat": 4,
 "nbformat_minor": 2
}
