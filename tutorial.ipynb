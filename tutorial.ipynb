{
 "cells": [
  {
   "cell_type": "markdown",
   "metadata": {},
   "source": [
    "# 制作你自己的 **AI** 动作识别系统"
   ]
  },
  {
   "cell_type": "markdown",
   "metadata": {},
   "source": [
    "设备：香橙派 Zero 3 （同时执行太多任务可能会导致设备卡顿）"
   ]
  },
  {
   "cell_type": "markdown",
   "metadata": {},
   "source": [
    "## GNU/Linux 的基本操作\n",
    "\n",
    ">GNU 是 \"GNU's Not Unix!\" 的递归缩写"
   ]
  },
  {
   "cell_type": "markdown",
   "metadata": {},
   "source": [
    "`ctrl + alt + t` 打开终端\n",
    "\n",
    "`ctrl + alt + F1-F7` 切换虚拟终端 tty1-7, 通常tty7号是图形界面\n",
    "\n",
    "`ctrl + c` 结束指令，终止运行\n",
    "\n",
    "`ls` 查看此目录下的所有文件与文件夹，尝试 `ls -a`, `ls -l`, `ls -lh` （-h = --human-readable，人类可读）\n",
    "\n",
    "`man` *manual* 或指令后面加 `--help` 查看指令说明书 \n",
    "\n",
    "`pwd` *print working directory* 输出所在目录\n",
    "\n",
    "`code .` (装好vscode的前提下) 从此目录打开vscode\n",
    "\n",
    "\n",
    "\n",
    "\n"
   ]
  },
  {
   "cell_type": "code",
   "execution_count": null,
   "metadata": {},
   "outputs": [],
   "source": []
  },
  {
   "cell_type": "markdown",
   "metadata": {},
   "source": [
    "## 配置开发环境"
   ]
  },
  {
   "cell_type": "code",
   "execution_count": 6,
   "metadata": {},
   "outputs": [],
   "source": [
    "# 导入所有库\n",
    "import os\n",
    "import cv2\n",
    "import signal\n",
    "import subprocess\n"
   ]
  },
  {
   "cell_type": "code",
   "execution_count": 1,
   "metadata": {},
   "outputs": [
    {
     "name": "stdout",
     "output_type": "stream",
     "text": [
      "Current directory: /Users/promcrdog/Documents/Vector lab/Class - pose detection/Pi_Pose_Prediction\n",
      "Changed directory: /Users/promcrdog/Documents/Vector lab/Class - pose detection/Pi_Pose_Prediction/inference_prediction\n"
     ]
    }
   ],
   "source": [
    "# Get the current working directory\n",
    "current_dir = os.getcwd()\n",
    "print(f\"Current directory: {current_dir}\")\n",
    "# Change the directory 切换执行路径\n",
    "new_dir = \"./inference_prediction\"\n",
    "os.chdir(new_dir)\n",
    "# Verify the new directory 确认执行路径\n",
    "changed_dir = os.getcwd()\n",
    "print(f\"Changed directory: {changed_dir}\")"
   ]
  },
  {
   "cell_type": "code",
   "execution_count": null,
   "metadata": {},
   "outputs": [],
   "source": [
    "!sh setup.sh"
   ]
  },
  {
   "cell_type": "markdown",
   "metadata": {},
   "source": [
    "## 初步测试"
   ]
  },
  {
   "cell_type": "markdown",
   "metadata": {},
   "source": [
    "### 找到摄像头编号index"
   ]
  },
  {
   "cell_type": "code",
   "execution_count": null,
   "metadata": {},
   "outputs": [],
   "source": [
    "for camera_id in range(0, 20):\n",
    "    cap = cv2.VideoCapture(camera_id)\n",
    "    if cap is None or not cap.isOpened():\n",
    "        # print(f\"No camera found at index {camera_id}\")\n",
    "        continue\n",
    "    else:\n",
    "        ret, frame = cap.read()\n",
    "        if ret:\n",
    "            print(f\"camera found at index {camera_id}\")\n",
    "        cap.release()\n",
    "\n",
    "cv2.destroyWindow"
   ]
  },
  {
   "cell_type": "markdown",
   "metadata": {},
   "source": [
    "### 测试"
   ]
  },
  {
   "cell_type": "code",
   "execution_count": 4,
   "metadata": {},
   "outputs": [],
   "source": [
    "# Hardcoded variables 硬编变量\n",
    "ESTIMATION_MODEL = 'movenet_lightning'  # 估计模型\n",
    "TRACKER_TYPE = 'bounding_box'  # 跟踪器类型 ('keypoint' or 'bounding_box')\n",
    "CLASSIFICATION_MODEL = 'classifier.tflite'  # Set to None if not using a classifier 如果不使用分类器，设置为None\n",
    "LABEL_FILE = 'labels.txt'  # 标签文件\n",
    "CAMERA_ID = 0  # 相机ID\n",
    "WIDTH = 640  # 宽度\n",
    "HEIGHT = 480  # 高度"
   ]
  },
  {
   "cell_type": "code",
   "execution_count": 9,
   "metadata": {},
   "outputs": [
    {
     "name": "stdout",
     "output_type": "stream",
     "text": [
      "Running command: python pose_estimation.py --model movenet_lightning --tracker bounding_box --classifier posenet.tflite --label_file labels.txt --cameraId 0 --frameWidth 640 --frameHeight 480\n"
     ]
    },
    {
     "name": "stderr",
     "output_type": "stream",
     "text": [
      "Traceback (most recent call last):\n",
      "  File \"/Users/promcrdog/Documents/Vector lab/Class - pose detection/Pi_Pose_Prediction/inference_prediction/ml/classifier.py\", line 12, in <module>\n",
      "    from tflite_runtime.interpreter import Interpreter\n",
      "ModuleNotFoundError: No module named 'tflite_runtime'\n",
      "\n",
      "During handling of the above exception, another exception occurred:\n",
      "\n",
      "Traceback (most recent call last):\n",
      "  File \"/Users/promcrdog/Documents/Vector lab/Class - pose detection/Pi_Pose_Prediction/inference_prediction/pose_estimation.py\", line 8, in <module>\n",
      "    from ml import Classifier\n",
      "  File \"/Users/promcrdog/Documents/Vector lab/Class - pose detection/Pi_Pose_Prediction/inference_prediction/ml/__init__.py\", line 3, in <module>\n",
      "    from ml.classifier import Classifier\n",
      "  File \"/Users/promcrdog/Documents/Vector lab/Class - pose detection/Pi_Pose_Prediction/inference_prediction/ml/classifier.py\", line 15, in <module>\n",
      "    import tensorflow as tf\n",
      "ModuleNotFoundError: No module named 'tensorflow'\n"
     ]
    },
    {
     "data": {
      "text/plain": [
       "256"
      ]
     },
     "execution_count": 9,
     "metadata": {},
     "output_type": "execute_result"
    }
   ],
   "source": [
    "# 执行文件\n",
    "# Construct the command string\n",
    "command = (\n",
    "    f\"python pose_estimation.py \"\n",
    "    f\"--model {ESTIMATION_MODEL} \"\n",
    "    f\"--tracker {TRACKER_TYPE} \"\n",
    "    f\"--classifier {CLASSIFICATION_MODEL} \"\n",
    "    f\"--label_file {LABEL_FILE} \"\n",
    "    f\"--cameraId {CAMERA_ID} \"\n",
    "    f\"--frameWidth {WIDTH} \"\n",
    "    f\"--frameHeight {HEIGHT}\"\n",
    ")\n",
    "\n",
    "\n",
    "print(\"Running command:\", command)\n",
    "\n",
    "\n",
    "try:\n",
    "    # Run the command as a subprocess\n",
    "    process = subprocess.Popen(command, shell=True)\n",
    "\n",
    "    # Wait for the process to complete\n",
    "    process.wait()\n",
    "except KeyboardInterrupt:\n",
    "    # Handle keyboard interrupt (Ctrl+C)\n",
    "    print(\"\\nProcess interrupted! Stopping...\")\n",
    "    process.send_signal(signal.SIGINT)\n",
    "    process.wait()\n",
    "    print(\"Process stopped.\")"
   ]
  },
  {
   "cell_type": "code",
   "execution_count": null,
   "metadata": {},
   "outputs": [],
   "source": [
    "# Change back to initiall working directory 切换为ipynb原本所在路径\n",
    "os.chdir(current_dir)"
   ]
  }
 ],
 "metadata": {
  "kernelspec": {
   "display_name": "innox",
   "language": "python",
   "name": "python3"
  },
  "language_info": {
   "codemirror_mode": {
    "name": "ipython",
    "version": 3
   },
   "file_extension": ".py",
   "mimetype": "text/x-python",
   "name": "python",
   "nbconvert_exporter": "python",
   "pygments_lexer": "ipython3",
   "version": "3.10.0"
  }
 },
 "nbformat": 4,
 "nbformat_minor": 2
}
